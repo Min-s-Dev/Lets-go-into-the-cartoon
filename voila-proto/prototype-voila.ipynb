{
 "cells": [
  {
   "cell_type": "markdown",
   "id": "e6ca2dcb-258a-4286-bafa-fe7025202251",
   "metadata": {},
   "source": [
    "### Black Setting"
   ]
  },
  {
   "cell_type": "code",
   "execution_count": 1,
   "id": "6fbc1d84-3815-443e-b66e-bcc65a2fcfaf",
   "metadata": {},
   "outputs": [],
   "source": [
    "%load_ext lab_black"
   ]
  },
  {
   "cell_type": "markdown",
   "id": "8d6ec6c9-13e5-46e2-8526-cfa60e44f848",
   "metadata": {},
   "source": [
    "## Import Library"
   ]
  },
  {
   "cell_type": "code",
   "execution_count": 85,
   "id": "882001d6-c76c-4af6-b81b-73e4098a1578",
   "metadata": {},
   "outputs": [],
   "source": [
    "from PIL import Image\n",
    "from io import BytesIO\n",
    "import torch\n",
    "import ipywidgets as widgets\n",
    "\n",
    "# from IPython.display import Image as display_image"
   ]
  },
  {
   "cell_type": "markdown",
   "id": "fb637f78-675d-42bb-895f-866054f89197",
   "metadata": {},
   "source": [
    "### File Uploader"
   ]
  },
  {
   "cell_type": "code",
   "execution_count": 125,
   "id": "32689f91-f3c7-4ff8-94a7-6fa4dbf83a8a",
   "metadata": {},
   "outputs": [],
   "source": [
    "# uploader.close_all()"
   ]
  },
  {
   "cell_type": "code",
   "execution_count": 126,
   "id": "45399d90-fa59-4274-b4fe-6b3670a22688",
   "metadata": {},
   "outputs": [
    {
     "data": {
      "application/vnd.jupyter.widget-view+json": {
       "model_id": "fa5274fcb174402eb922dcd34687514f",
       "version_major": 2,
       "version_minor": 0
      },
      "text/plain": [
       "FileUpload(value={}, accept='.png, .jpg, .jpeg', description='Upload')"
      ]
     },
     "metadata": {},
     "output_type": "display_data"
    }
   ],
   "source": [
    "uploader = widgets.FileUpload(accept=\".png, .jpg, .jpeg\", multiple=False)\n",
    "display(uploader)"
   ]
  },
  {
   "cell_type": "markdown",
   "id": "6c47d867-ae2d-480e-a85e-b32400ecb27e",
   "metadata": {},
   "source": [
    "### on click callback function"
   ]
  },
  {
   "cell_type": "code",
   "execution_count": 127,
   "id": "7e7d4c4b-a843-48ee-8357-d1a6bb338b3d",
   "metadata": {},
   "outputs": [],
   "source": [
    "def on_click_callback(clicked_button: widgets.Button) -> None:\n",
    "    global content\n",
    "    uploaded_filename = next(iter(uploader.value))\n",
    "    content = uploader.value[uploaded_filename][\"content\"]\n",
    "    display_image_space.value = content"
   ]
  },
  {
   "cell_type": "markdown",
   "id": "828ebe13-aa15-42ab-8b0a-5c998fd885ed",
   "metadata": {},
   "source": [
    "### Create Display Button"
   ]
  },
  {
   "cell_type": "code",
   "execution_count": 128,
   "id": "d626a346-a37c-4dff-a091-ad7be5d6b778",
   "metadata": {},
   "outputs": [],
   "source": [
    "display_button = widgets.Button(description=\"Display Image\")\n",
    "display_image_space = widgets.Image()"
   ]
  },
  {
   "cell_type": "code",
   "execution_count": 129,
   "id": "b482202e-fa4e-4adc-bd80-15de519823e5",
   "metadata": {},
   "outputs": [],
   "source": [
    "display_button.on_click(on_click_callback)"
   ]
  },
  {
   "cell_type": "code",
   "execution_count": 131,
   "id": "0ead4c25-4984-4952-a538-686eb175d25c",
   "metadata": {},
   "outputs": [
    {
     "data": {
      "application/vnd.jupyter.widget-view+json": {
       "model_id": "e62ec3b1e15c4df3ab28a3fffae6956c",
       "version_major": 2,
       "version_minor": 0
      },
      "text/plain": [
       "Button(description='Display Image', style=ButtonStyle())"
      ]
     },
     "metadata": {},
     "output_type": "display_data"
    },
    {
     "data": {
      "application/vnd.jupyter.widget-view+json": {
       "model_id": "201aafb114a34917adb679699717126f",
       "version_major": 2,
       "version_minor": 0
      },
      "text/plain": [
       "Image(value=b'\\x89PNG\\r\\n\\x1a\\n\\x00\\x00\\x00\\rIHDR\\x00\\x00\\x01w\\x00\\x00\\x01c\\x08\\x06\\x00\\x00\\x00\\xc6\\x87Ks\\x00\\…"
      ]
     },
     "metadata": {},
     "output_type": "display_data"
    }
   ],
   "source": [
    "display(display_button, display_image_space)"
   ]
  },
  {
   "cell_type": "markdown",
   "id": "b1f10910-fe6f-456a-b5f4-28a98ec526c3",
   "metadata": {},
   "source": [
    "### Go to the Cartoon"
   ]
  },
  {
   "cell_type": "code",
   "execution_count": 132,
   "id": "2584cfb3-b6c4-42f4-b4d6-38d9d5389550",
   "metadata": {},
   "outputs": [],
   "source": [
    "def run(img, pretrained):\n",
    "    model = torch.hub.load(\n",
    "        \"bryandlee/animegan2-pytorch:main\", \"generator\", pretrained=pretrained\n",
    "    )\n",
    "    face2paint = torch.hub.load(\n",
    "        \"bryandlee/animegan2-pytorch:main\", \"face2paint\", size=512\n",
    "    )\n",
    "    out = face2paint(model, img)\n",
    "    return out"
   ]
  },
  {
   "cell_type": "code",
   "execution_count": 133,
   "id": "9b32de8e-eaad-48da-891d-d03401468025",
   "metadata": {},
   "outputs": [],
   "source": [
    "def on_convert_click_callback(clicked_button: widgets.Button) -> None:\n",
    "    img = Image.open(BytesIO(content)).convert(\"RGB\")\n",
    "    convert_kian_img = run(img, \"celeba_distill\")\n",
    "    output = BytesIO()\n",
    "    convert_kian_img.save(output, \"PNG\")\n",
    "    convert_image_space.value = output.getvalue()"
   ]
  },
  {
   "cell_type": "code",
   "execution_count": 134,
   "id": "a53535e0-335a-4697-b37d-6d4141dccfcf",
   "metadata": {},
   "outputs": [
    {
     "data": {
      "application/vnd.jupyter.widget-view+json": {
       "model_id": "433f6de83b5f4f3797725acd86b7e9d1",
       "version_major": 2,
       "version_minor": 0
      },
      "text/plain": [
       "Button(description='Convert Image', style=ButtonStyle())"
      ]
     },
     "metadata": {},
     "output_type": "display_data"
    },
    {
     "data": {
      "application/vnd.jupyter.widget-view+json": {
       "model_id": "bf5f01c750704e42bd976692220b7e9b",
       "version_major": 2,
       "version_minor": 0
      },
      "text/plain": [
       "Image(value=b'')"
      ]
     },
     "metadata": {},
     "output_type": "display_data"
    }
   ],
   "source": [
    "convert_button = widgets.Button(description=\"Convert Image - kian\")\n",
    "convert_image_space = widgets.Image()\n",
    "convert_button.on_click(on_convert_click_callback)\n",
    "display(convert_button, convert_image_space)"
   ]
  },
  {
   "cell_type": "code",
   "execution_count": 123,
   "id": "6b3d3df9-c819-4352-8c74-ab170ecf2f49",
   "metadata": {},
   "outputs": [],
   "source": [
    "# # 기안 WebToon Version\n",
    "# convert_kian_img = run(img, \"celeba_distill\")\n",
    "# display(convert_kian_img)"
   ]
  },
  {
   "cell_type": "code",
   "execution_count": 124,
   "id": "606536f1-2bee-4f6f-9a1d-47d46a0dc7f1",
   "metadata": {},
   "outputs": [],
   "source": [
    "# # 청춘 Webtoon Version\n",
    "# convert_youth_img = run(img, \"face_paint_512_v2\")\n",
    "# display(convert_youth_img)"
   ]
  }
 ],
 "metadata": {
  "kernelspec": {
   "display_name": "Python 3 (ipykernel)",
   "language": "python",
   "name": "python3"
  },
  "language_info": {
   "codemirror_mode": {
    "name": "ipython",
    "version": 3
   },
   "file_extension": ".py",
   "mimetype": "text/x-python",
   "name": "python",
   "nbconvert_exporter": "python",
   "pygments_lexer": "ipython3",
   "version": "3.10.4"
  }
 },
 "nbformat": 4,
 "nbformat_minor": 5
}
